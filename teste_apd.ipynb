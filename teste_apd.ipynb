{
 "metadata": {
  "language_info": {
   "codemirror_mode": {
    "name": "ipython",
    "version": 3
   },
   "file_extension": ".py",
   "mimetype": "text/x-python",
   "name": "python",
   "nbconvert_exporter": "python",
   "pygments_lexer": "ipython3",
   "version": "2.7.17-final"
  },
  "orig_nbformat": 2,
  "kernelspec": {
   "name": "python2",
   "display_name": "Python 2"
  }
 },
 "nbformat": 4,
 "nbformat_minor": 2,
 "cells": [
  {
   "cell_type": "code",
   "execution_count": 1,
   "metadata": {},
   "outputs": [
    {
     "output_type": "execute_result",
     "data": {
      "text/plain": [
       "{u'ap': [[u'i', u'd'],\n",
       "  [u'0', u'1'],\n",
       "  [u'Z', u'U', u'F'],\n",
       "  [[u'i', u'0', u'#', u'd', u'ZF'],\n",
       "   [u'i', u'1', u'#', u'd', u'UF'],\n",
       "   [u'd', u'0', u'Z', u'd', u'ZZ'],\n",
       "   [u'd', u'0', u'U', u'd', u'#'],\n",
       "   [u'd', u'1', u'U', u'd', u'UU'],\n",
       "   [u'd', u'1', u'Z', u'd', u'#'],\n",
       "   [u'd', u'#', u'F', u'i', u'#']],\n",
       "  u'i',\n",
       "  [u'i']]}"
      ]
     },
     "metadata": {},
     "execution_count": 1
    }
   ],
   "source": [
    "import json\n",
    "\n",
    "with open(\"exemplo.json\", \"r\") as json_file:\n",
    "    dados = json.load(json_file)\n",
    "\n",
    "#separa o arquivo json nos elemntos que compoem automato\n",
    "estados = dados['ap'][0]\n",
    "alfabeto = dados['ap'][1]\n",
    "alfabeto_pilha = dados['ap'][2]\n",
    "transicoes = dados['ap'][3]\n",
    "estado_inicial = dados['ap'][4]\n",
    "estados_finais = dados['ap'][5]\n",
    "dados"
   ]
  },
  {
   "cell_type": "code",
   "execution_count": 3,
   "metadata": {},
   "outputs": [],
   "source": [
    "pilha = []\n",
    "class Pilha:\n",
    "    def __init__(self):\n",
    "        self.p = []\n",
    "\n",
    "    def empilha(self,elemento):\n",
    "        self.p.append(elemento)\n",
    "    \n",
    "    def desempilha(self):\n",
    "        if self.verifica_pilha_vazia() is False:\n",
    "            return self.p.pop()\n",
    "    \n",
    "    def verifica_pilha_vazia(self):\n",
    "        if len(self.p) == 0 :\n",
    "            return True\n",
    "        else :\n",
    "            return False\n",
    "    \n",
    "    def topo_pilha(self,i):\n",
    "        if self.verifica_pilha_vazia() is False:\n",
    "                return self.p[-i:]\n",
    "        else:\n",
    "            return ['']\n",
    "\n",
    "\n"
   ]
  },
  {
   "cell_type": "code",
   "execution_count": 7,
   "metadata": {},
   "outputs": [
    {
     "output_type": "stream",
     "name": "stdout",
     "text": [
      "1\ni\n0\nd\n0\nd\n1\ni\nNão\n"
     ]
    }
   ],
   "source": [
    "palavra = '1001' #Resposta final: Sim\n",
    "palavraConsumida = True\n",
    "simboloConsumido = False\n",
    "estado_atual = estado_inicial\n",
    "pilha = Pilha()\n",
    "\n",
    "for simbolo in palavra:\n",
    "    print(simbolo)\n",
    "    print(estado_atual)\n",
    "    for transicao in transicoes:\n",
    "        simboloConsumido = False\n",
    "        transicao_estado_atual = transicao[0]\n",
    "        transicao_simbolo = transicao[1]\n",
    "        transicao_desempilha = transicao[2]\n",
    "        proximo_estado = transicao[3]\n",
    "        empilha_elementos = transicao[4]\n",
    "\n",
    "        if(transicao_estado_atual == estado_atual and (transicao_simbolo == simbolo or transicao_simbolo == '#')):\n",
    "            if(transicao_desempilha == '#'):\n",
    "                estado_atual = proximo_estado\n",
    "                if (empilha_elementos != '#'):\n",
    "                    for elemento in empilha_elementos[::-1]:\n",
    "                        pilha.empilha(elemento)\n",
    "                simboloConsumido = True\n",
    "                #olhar com andrei ordem de empilha e se isso pode acontecer realmente (desempilhar 2 elementos ao msm tempo)\n",
    "            elif transicao_desempilha == \"\".join(pilha.topo_pilha(len(transicao_desempilha))):\n",
    "                for i in range(len(transicao_desempilha)):\n",
    "                    pilha.desempilha()\n",
    "                estado_atual = proximo_estado\n",
    "                if (empilha_elementos != '#'):\n",
    "                    for elemento in empilha_elementos[::-1]:\n",
    "                        pilha.empilha(elemento)\n",
    "                simboloConsumido = True\n",
    "        if simboloConsumido is True:\n",
    "            break\n",
    "    if simboloConsumido is False:\n",
    "        break\n",
    "\n",
    "if(simboloConsumido is True and pilha.verifica_pilha_vazia() and estadoAtual in estados_estados_finais):\n",
    "    print(\"Sim\")\n",
    "else:\n",
    "    print(\"Não\")\n",
    "\n",
    "#OLhar o condição leitura lambda \n"
   ]
  },
  {
   "cell_type": "code",
   "execution_count": 21,
   "metadata": {},
   "outputs": [
    {
     "output_type": "execute_result",
     "data": {
      "text/plain": [
       "['o', 'l']"
      ]
     },
     "metadata": {},
     "execution_count": 21
    }
   ],
   "source": [
    "palavra = ['paralelepipedo', \"o\", \"l\"]\n",
    "palavra[-2:]"
   ]
  },
  {
   "cell_type": "code",
   "execution_count": null,
   "metadata": {},
   "outputs": [],
   "source": []
  }
 ]
}