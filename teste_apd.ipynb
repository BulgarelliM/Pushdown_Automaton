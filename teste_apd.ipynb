{
 "cells": [
  {
   "cell_type": "code",
   "execution_count": 2,
   "metadata": {},
   "outputs": [
    {
     "data": {
      "text/plain": [
       "{u'ap': [[u'z', u'u', u'f'],\n",
       "  [u'0', u'1', u'F'],\n",
       "  [u'X'],\n",
       "  [[u'z', u'0', u'#', u'z', u'X'],\n",
       "   [u'z', u'1', u'X', u'u', u'#'],\n",
       "   [u'z', u'F', u'#', u'f', u'#'],\n",
       "   [u'u', u'1', u'X', u'u', u'#'],\n",
       "   [u'u', u'F', u'#', u'f', u'#'],\n",
       "   [u'f', u'#', u'X', u'f', u'#']],\n",
       "  u'z',\n",
       "  [u'f']]}"
      ]
     },
     "execution_count": 2,
     "metadata": {},
     "output_type": "execute_result"
    }
   ],
   "source": [
    "import json\n",
    "\n",
    "with open(\"exemplo2.json\", \"r\") as json_file:\n",
    "    dados = json.load(json_file)\n",
    "\n",
    "#separa o arquivo json nos elemntos que compoem automato\n",
    "estados = dados['ap'][0]\n",
    "alfabeto = dados['ap'][1]\n",
    "alfabeto_pilha = dados['ap'][2]\n",
    "transicoes = dados['ap'][3]\n",
    "estado_inicial = dados['ap'][4]\n",
    "estados_finais = dados['ap'][5]\n",
    "dados"
   ]
  },
  {
   "cell_type": "code",
   "execution_count": 3,
   "metadata": {},
   "outputs": [],
   "source": [
    "pilha = []\n",
    "class Pilha:\n",
    "    def __init__(self):\n",
    "        self.p = []\n",
    "\n",
    "    def empilha(self,elemento):\n",
    "        self.p.append(elemento)\n",
    "    \n",
    "    def desempilha(self):\n",
    "        if self.verifica_pilha_vazia() is False:\n",
    "            return self.p.pop()\n",
    "    \n",
    "    def verifica_pilha_vazia(self):\n",
    "        if len(self.p) == 0 :\n",
    "            return True\n",
    "        else :\n",
    "            return False\n",
    "    \n",
    "    def topo_pilha(self,i): # retorna as i posicoes do topo da pilha\n",
    "        if self.verifica_pilha_vazia() is False:\n",
    "                return self.p[-i:]\n",
    "        else:\n",
    "            return ['']\n",
    "\n",
    "\n"
   ]
  },
  {
   "cell_type": "code",
   "execution_count": 14,
   "metadata": {},
   "outputs": [
    {
     "name": "stdout",
     "output_type": "stream",
     "text": [
      "('final: ', u'z')\n",
      "Não\n"
     ]
    }
   ],
   "source": [
    "palavra = '#' #Resposta final: Sim\n",
    "palavraConsumida = True\n",
    "simboloConsumido = True\n",
    "estado_atual = estado_inicial\n",
    "pilha = Pilha()\n",
    "\n",
    "'''\n",
    "Para cada palavra fornecida, será verificado o estado atual, o símbolo lido,\n",
    "o que será desempilhado e/ou empilhado e o próximo estado.\n",
    "\n",
    "    - simboloConsumido: boolean que passa para True quando o símbolo é lido adequadamente\n",
    "'''\n",
    "i = 0\n",
    "\n",
    "if palavra != '#':\n",
    "    while (True):\n",
    "        print('estado atual: ',estado_atual)\n",
    "        print(i)\n",
    "        print()\n",
    "        # realiza a leitura do array de transicoes do arquivo json\n",
    "        for transicao in transicoes:\n",
    "            simboloConsumido = False\n",
    "            transicao_estado_atual = transicao[0]\n",
    "            transicao_simbolo = transicao[1]\n",
    "            transicao_desempilha = transicao[2]\n",
    "            proximo_estado = transicao[3]\n",
    "            empilha_elementos = transicao[4]\n",
    "\n",
    "            if(transicao_estado_atual == estado_atual and (i < len(palavra))):\n",
    "                if (transicao_simbolo == palavra[i] or transicao_simbolo == '#'):\n",
    "                    if transicao_simbolo == palavra[i]:\n",
    "                        # pode-se desempilhar nada ou desempilhar um caractere\n",
    "                        # a transição vai depender do topo da pilha\n",
    "                        if(transicao_desempilha == '#'): # se não desempilha nada\n",
    "                            if (empilha_elementos != '#'):\n",
    "                                for elemento in empilha_elementos[::-1]: # conferir a ordem de empilhamento\n",
    "                                    pilha.empilha(elemento)\n",
    "                            # realiza a transição e muda de estado - se for #, vai de graça pro prox estado\n",
    "                            estado_atual = proximo_estado\n",
    "                            simboloConsumido = True\n",
    "                            print('simbolo: ',palavra[i])\n",
    "\n",
    "                            i = i + 1\n",
    "                            #olhar com andrei ordem de empilha e se isso pode acontecer realmente (desempilhar 2 elementos ao msm tempo)\n",
    "\n",
    "                        elif transicao_desempilha == \"\".join(pilha.topo_pilha(len(transicao_desempilha))):\n",
    "                            for j in range(len(transicao_desempilha)):\n",
    "                                pilha.desempilha()\n",
    "                            # empilha\n",
    "                            if (empilha_elementos != '#'):\n",
    "                                for elemento in empilha_elementos[::-1]: # verificar\n",
    "                                    pilha.empilha(elemento)\n",
    "                            estado_atual = proximo_estado\n",
    "                            simboloConsumido = True\n",
    "                            print('simbolo: ',palavra[i])\n",
    "                            i = i + 1\n",
    "\n",
    "                    elif transicao_simbolo == '#':\n",
    "                        # nunca vai desempilhar #, pois eh APD\n",
    "                        # verifica o topo da pilha\n",
    "                        if transicao_desempilha == \"\".join(pilha.topo_pilha(len(transicao_desempilha))):\n",
    "                            for j in range(len(transicao_desempilha)):\n",
    "                                pilha.desempilha()\n",
    "                            # empilha\n",
    "                            if (empilha_elementos != '#'):\n",
    "                                for elemento in empilha_elementos[::-1]: # verificar\n",
    "                                    pilha.empilha(elemento)\n",
    "                            estado_atual = proximo_estado\n",
    "                            simboloConsumido = True # é consumido, mas não é consumido\n",
    "            else:\n",
    "                if(transicao_estado_atual == estado_atual):\n",
    "                    if transicao_simbolo == '#':\n",
    "                        if transicao_desempilha == \"\".join(pilha.topo_pilha(len(transicao_desempilha))):\n",
    "                            for j in range(len(transicao_desempilha)):\n",
    "                                pilha.desempilha()\n",
    "                            # empilha\n",
    "                            if (empilha_elementos != '#'):\n",
    "                                for elemento in empilha_elementos[::-1]:\n",
    "                                    pilha.empilha(elemento)\n",
    "                            estado_atual = proximo_estado\n",
    "                            simboloConsumido = True # é consumido, mas não é consumido\n",
    "            if simboloConsumido is True:\n",
    "                break\n",
    "\n",
    "        if (simboloConsumido is False) or (i >= len(palavra) and (pilha.verifica_pilha_vazia() is True)) :\n",
    "            break\n",
    "\n",
    "\n",
    "print('final: ', estado_atual)\n",
    "if(simboloConsumido is True and pilha.verifica_pilha_vazia() and estado_atual in estados_finais):\n",
    "    print(\"Sim\")\n",
    "else:\n",
    "    print(\"Não\")\n",
    "\n",
    "#OLhar o condição leitura lambda "
   ]
  },
  {
   "cell_type": "code",
   "execution_count": 5,
   "metadata": {},
   "outputs": [
    {
     "data": {
      "text/plain": [
       "'o'"
      ]
     },
     "execution_count": 5,
     "metadata": {},
     "output_type": "execute_result"
    }
   ],
   "source": [
    "palavra = ['paralelepipedo', \"o\", \"l\"]\n",
    "palavra[-2:]\n",
    "L=\"o\"\n",
    "\"+\".join(L)"
   ]
  },
  {
   "cell_type": "code",
   "execution_count": 6,
   "metadata": {},
   "outputs": [
    {
     "data": {
      "text/plain": [
       "'\\nfor simbolo in palavra:\\n    print(\\'simbolo: \\',simbolo)\\n    print(\\'estado atual: \\',estado_atual)\\n    print()\\n    \\n    # realiza a leitura do array de transicoes do arquivo json\\n    for transicao in transicoes:\\n        simboloConsumido = False\\n        transicao_estado_atual = transicao[0]\\n        transicao_simbolo = transicao[1]\\n        transicao_desempilha = transicao[2]\\n        proximo_estado = transicao[3]\\n        empilha_elementos = transicao[4]\\n\\n        \\n        if(transicao_estado_atual == estado_atual and (transicao_simbolo == simbolo or transicao_simbolo == \\'#\\')):\\n            # pode-se desempilhar nada ou empilhar um caractere\\n            if(transicao_desempilha == \\'#\\'):\\n                estado_atual = proximo_estado\\n                if (empilha_elementos != \\'#\\'):\\n                    for elemento in empilha_elementos[::-1]:\\n                        pilha.empilha(elemento)\\n                simboloConsumido = True\\n                #olhar com andrei ordem de empilha e se isso pode acontecer realmente (desempilhar 2 elementos ao msm tempo)\\n            elif transicao_desempilha == \"\".join(pilha.topo_pilha(len(transicao_desempilha))):\\n                for i in range(len(transicao_desempilha)):\\n                    pilha.desempilha()\\n                estado_atual = proximo_estado\\n                if (empilha_elementos != \\'#\\'):\\n                    for elemento in empilha_elementos[::-1]:\\n                        pilha.empilha(elemento)\\n                simboloConsumido = True\\n        if simboloConsumido is True:\\n            break\\n    if simboloConsumido is False:\\n        break\\n'"
      ]
     },
     "execution_count": 6,
     "metadata": {},
     "output_type": "execute_result"
    }
   ],
   "source": [
    "\n",
    "'''\n",
    "for simbolo in palavra:\n",
    "    print('simbolo: ',simbolo)\n",
    "    print('estado atual: ',estado_atual)\n",
    "    print()\n",
    "    \n",
    "    # realiza a leitura do array de transicoes do arquivo json\n",
    "    for transicao in transicoes:\n",
    "        simboloConsumido = False\n",
    "        transicao_estado_atual = transicao[0]\n",
    "        transicao_simbolo = transicao[1]\n",
    "        transicao_desempilha = transicao[2]\n",
    "        proximo_estado = transicao[3]\n",
    "        empilha_elementos = transicao[4]\n",
    "\n",
    "        \n",
    "        if(transicao_estado_atual == estado_atual and (transicao_simbolo == simbolo or transicao_simbolo == '#')):\n",
    "            # pode-se desempilhar nada ou empilhar um caractere\n",
    "            if(transicao_desempilha == '#'):\n",
    "                estado_atual = proximo_estado\n",
    "                if (empilha_elementos != '#'):\n",
    "                    for elemento in empilha_elementos[::-1]:\n",
    "                        pilha.empilha(elemento)\n",
    "                simboloConsumido = True\n",
    "                #olhar com andrei ordem de empilha e se isso pode acontecer realmente (desempilhar 2 elementos ao msm tempo)\n",
    "            elif transicao_desempilha == \"\".join(pilha.topo_pilha(len(transicao_desempilha))):\n",
    "                for i in range(len(transicao_desempilha)):\n",
    "                    pilha.desempilha()\n",
    "                estado_atual = proximo_estado\n",
    "                if (empilha_elementos != '#'):\n",
    "                    for elemento in empilha_elementos[::-1]:\n",
    "                        pilha.empilha(elemento)\n",
    "                simboloConsumido = True\n",
    "        if simboloConsumido is True:\n",
    "            break\n",
    "    if simboloConsumido is False:\n",
    "        break\n",
    "'''"
   ]
  }
 ],
 "metadata": {
  "kernelspec": {
   "display_name": "Python 2",
   "language": "python",
   "name": "python2"
  },
  "language_info": {
   "codemirror_mode": {
    "name": "ipython",
    "version": 3
   },
   "file_extension": ".py",
   "mimetype": "text/x-python",
   "name": "python",
   "nbconvert_exporter": "python",
   "pygments_lexer": "ipython3",
   "version": "3.7.7"
  }
 },
 "nbformat": 4,
 "nbformat_minor": 4
}
